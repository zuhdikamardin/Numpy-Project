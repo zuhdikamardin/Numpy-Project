{
 "cells": [
  {
   "cell_type": "code",
   "execution_count": 1,
   "metadata": {
    "collapsed": true
   },
   "outputs": [],
   "source": [
    "import numpy as np"
   ]
  },
  {
   "cell_type": "code",
   "execution_count": 4,
   "metadata": {
    "collapsed": false
   },
   "outputs": [],
   "source": [
    "from numpy import *"
   ]
  },
  {
   "cell_type": "code",
   "execution_count": 6,
   "metadata": {
    "collapsed": false
   },
   "outputs": [
    {
     "data": {
      "text/plain": [
       "array([[0, 1, 2],\n",
       "       [3, 4, 5],\n",
       "       [6, 7, 8]])"
      ]
     },
     "execution_count": 6,
     "metadata": {},
     "output_type": "execute_result"
    }
   ],
   "source": [
    "M = array([[0, 1, 2], [3, 4, 5],[6, 7, 8]])\n",
    "M"
   ]
  },
  {
   "cell_type": "code",
   "execution_count": 7,
   "metadata": {
    "collapsed": false
   },
   "outputs": [
    {
     "name": "stdout",
     "output_type": "stream",
     "text": [
      "10\n"
     ]
    }
   ],
   "source": [
    "print (sum(range(5),-1))"
   ]
  },
  {
   "cell_type": "code",
   "execution_count": 10,
   "metadata": {
    "collapsed": true
   },
   "outputs": [],
   "source": [
    "from numpy import *"
   ]
  },
  {
   "cell_type": "code",
   "execution_count": 12,
   "metadata": {
    "collapsed": false
   },
   "outputs": [
    {
     "name": "stdout",
     "output_type": "stream",
     "text": [
      "10\n"
     ]
    }
   ],
   "source": [
    "print (sum(range(5),-1))"
   ]
  },
  {
   "cell_type": "code",
   "execution_count": 13,
   "metadata": {
    "collapsed": false
   },
   "outputs": [
    {
     "name": "stderr",
     "output_type": "stream",
     "text": [
      "C:\\Users\\mkamardin\\AppData\\Local\\Continuum\\Miniconda2\\envs\\tutorial\\lib\\site-packages\\ipykernel\\__main__.py:1: RuntimeWarning: invalid value encountered in sqrt\n",
      "  if __name__ == '__main__':\n"
     ]
    },
    {
     "data": {
      "text/plain": [
       "False"
      ]
     },
     "execution_count": 13,
     "metadata": {},
     "output_type": "execute_result"
    }
   ],
   "source": [
    "np.sqrt(-1)==np.emath.sqrt(-1)"
   ]
  },
  {
   "cell_type": "code",
   "execution_count": 21,
   "metadata": {
    "collapsed": false
   },
   "outputs": [
    {
     "data": {
      "text/plain": [
       "array([[ 0.06394596,  0.38541466,  0.80391685,  0.25163839,  0.06134447],\n",
       "       [ 0.33881067,  0.02825193,  0.52082069,  0.58160341,  0.4548042 ],\n",
       "       [ 0.95547593,  0.99247468,  0.75400184,  0.90132745,  0.51602569],\n",
       "       [ 0.46376671,  0.50286995,  0.24459999,  0.15002977,  0.0050106 ],\n",
       "       [ 0.571849  ,  0.59477135,  0.08201249,  0.63030094,  0.45194773],\n",
       "       [ 0.17293394,  0.83570311,  0.35022568,  0.77433405,  0.13678913]])"
      ]
     },
     "execution_count": 21,
     "metadata": {},
     "output_type": "execute_result"
    }
   ],
   "source": [
    "M=random.rand(6,5)\n",
    "M"
   ]
  },
  {
   "cell_type": "code",
   "execution_count": 25,
   "metadata": {
    "collapsed": false
   },
   "outputs": [
    {
     "data": {
      "text/plain": [
       "0.45256670822934614"
      ]
     },
     "execution_count": 25,
     "metadata": {},
     "output_type": "execute_result"
    }
   ],
   "source": [
    "mean(M[:,])\n"
   ]
  },
  {
   "cell_type": "code",
   "execution_count": 54,
   "metadata": {
    "collapsed": false
   },
   "outputs": [
    {
     "data": {
      "text/plain": [
       "matrix([[ 0.7776081 ,  0.46289941],\n",
       "        [ 1.2483712 ,  0.82978088],\n",
       "        [ 1.27942813,  0.93350587],\n",
       "        [ 1.61893362,  1.24925448],\n",
       "        [ 1.91975054,  1.51812784]])"
      ]
     },
     "execution_count": 54,
     "metadata": {},
     "output_type": "execute_result"
    }
   ],
   "source": [
    "N=random.rand(5,3)\n",
    "H=random.rand(3,2)\n",
    "N1=matrix (N)\n",
    "H1=matrix (H)\n",
    "N1*H1"
   ]
  },
  {
   "cell_type": "code",
   "execution_count": 56,
   "metadata": {
    "collapsed": false
   },
   "outputs": [
    {
     "data": {
      "text/plain": [
       "array([ 0.97829849,  0.66012084,  0.41398045,  0.10307267,  0.6199095 ,\n",
       "        0.74719607,  0.65894508,  0.15242837,  0.58230313,  0.80060491])"
      ]
     },
     "execution_count": 56,
     "metadata": {},
     "output_type": "execute_result"
    }
   ],
   "source": [
    "K=random.rand(10)\n",
    "K\n"
   ]
  },
  {
   "cell_type": "code",
   "execution_count": 59,
   "metadata": {
    "collapsed": false
   },
   "outputs": [
    {
     "data": {
      "text/plain": [
       "array([ 0.10307267,  0.15242837,  0.41398045,  0.58230313,  0.6199095 ,\n",
       "        0.65894508,  0.66012084,  0.74719607,  0.80060491,  0.97829849])"
      ]
     },
     "execution_count": 59,
     "metadata": {},
     "output_type": "execute_result"
    }
   ],
   "source": [
    "sort (K)"
   ]
  },
  {
   "cell_type": "code",
   "execution_count": 75,
   "metadata": {
    "collapsed": false
   },
   "outputs": [
    {
     "data": {
      "text/plain": [
       "array([ 0.05840112,  0.06300564,  0.06521008,  0.08446951,  0.09537169,\n",
       "        0.09971565,  0.10684213,  0.11371032,  0.12352194,  0.13385065,\n",
       "        0.13948417,  0.14420156,  0.1564513 ,  0.16896187,  0.17281316,\n",
       "        0.17535509,  0.17993119,  0.23296354,  0.24367718,  0.2504973 ,\n",
       "        0.25403432,  0.27246727,  0.29055096,  0.30226252,  0.30836597,\n",
       "        0.31573244,  0.32629833,  0.33791331,  0.34266587,  0.34369846,\n",
       "        0.36121501,  0.37771514,  0.38503425,  0.38908163,  0.41163631,\n",
       "        0.41436919,  0.44568267,  0.45639119,  0.45748791,  0.46924175,\n",
       "        0.47020699,  0.47549069,  0.4762844 ,  0.4793552 ,  0.49248643,\n",
       "        0.49325097,  0.52055936,  0.52401234,  0.54241353,  0.55785948,\n",
       "        0.58965755,  0.59076472,  0.59537069,  0.60287023,  0.6041672 ,\n",
       "        0.60815425,  0.60830096,  0.61309524,  0.61600864,  0.61825466,\n",
       "        0.63552228,  0.64959349,  0.65397024,  0.66557999,  0.66696381,\n",
       "        0.67068166,  0.68318486,  0.70775449,  0.70837159,  0.71770113,\n",
       "        0.71791435,  0.72472331,  0.7248427 ,  0.72970393,  0.73347208,\n",
       "        0.7350415 ,  0.73785447,  0.74018609,  0.74504315,  0.76299645,\n",
       "        0.77279124,  0.77568932,  0.78441828,  0.79210412,  0.79775806,\n",
       "        0.80268179,  0.80622824,  0.81240534,  0.82427702,  0.83147683,\n",
       "        0.83442167,  0.83698664,  0.85714308,  0.8635913 ,  0.87539784,\n",
       "        0.8893349 ,  0.90931348,  0.9217682 ,  0.94052599,  0.        ])"
      ]
     },
     "execution_count": 75,
     "metadata": {},
     "output_type": "execute_result"
    }
   ],
   "source": [
    "L=random.rand(100)\n",
    "L=sort(L)\n",
    "L[99]=0\n",
    "L"
   ]
  },
  {
   "cell_type": "code",
   "execution_count": 105,
   "metadata": {
    "collapsed": false
   },
   "outputs": [
    {
     "data": {
      "text/plain": [
       "array([[ 0.16564166,  0.21091002,  0.68207906,  0.19006834],\n",
       "       [ 0.96431362,  0.82471805,  0.89770738,  0.35055025],\n",
       "       [ 0.09329685,  0.59701275,  0.28091688,  0.37729339],\n",
       "       [ 0.67851563,  0.32013924,  0.59830457,  0.38146819]])"
      ]
     },
     "execution_count": 105,
     "metadata": {},
     "output_type": "execute_result"
    }
   ],
   "source": [
    "H=random.rand(4,4)\n",
    "H\n"
   ]
  },
  {
   "cell_type": "code",
   "execution_count": 106,
   "metadata": {
    "collapsed": false
   },
   "outputs": [
    {
     "data": {
      "text/plain": [
       "array([[-1.34758216,  0.63481069, -0.95414016,  1.03177787],\n",
       "       [-0.48819869,  1.41435266,  0.97990187, -2.02565009],\n",
       "       [ 2.06454861,  0.09574992, -0.55965267, -0.56313276],\n",
       "       [-0.4314429 , -2.46627741,  1.75253597,  3.36944889]])"
      ]
     },
     "execution_count": 106,
     "metadata": {},
     "output_type": "execute_result"
    }
   ],
   "source": [
    "H_Inv=linalg.inv(H)\n",
    "H_Inv"
   ]
  },
  {
   "cell_type": "code",
   "execution_count": 107,
   "metadata": {
    "collapsed": false
   },
   "outputs": [
    {
     "data": {
      "text/plain": [
       "array([[ 1.,  0.,  0.,  0.],\n",
       "       [ 0.,  1.,  0.,  0.],\n",
       "       [ 0.,  0.,  1.,  0.],\n",
       "       [ 0.,  0.,  0.,  1.]])"
      ]
     },
     "execution_count": 107,
     "metadata": {},
     "output_type": "execute_result"
    }
   ],
   "source": [
    "HH=dot(H,H_Inv)\n",
    "np.around(HH)"
   ]
  },
  {
   "cell_type": "code",
   "execution_count": null,
   "metadata": {
    "collapsed": true
   },
   "outputs": [],
   "source": []
  }
 ],
 "metadata": {
  "kernelspec": {
   "display_name": "Python 2",
   "language": "python",
   "name": "python2"
  },
  "language_info": {
   "codemirror_mode": {
    "name": "ipython",
    "version": 2
   },
   "file_extension": ".py",
   "mimetype": "text/x-python",
   "name": "python",
   "nbconvert_exporter": "python",
   "pygments_lexer": "ipython2",
   "version": "2.7.11"
  }
 },
 "nbformat": 4,
 "nbformat_minor": 0
}
